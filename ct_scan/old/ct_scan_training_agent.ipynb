{
 "cells": [
  {
   "cell_type": "markdown",
   "id": "63bc7851-6b1f-4140-ae59-08945848424b",
   "metadata": {},
   "source": [
    "### Import necessary libraries"
   ]
  },
  {
   "cell_type": "code",
   "execution_count": 2,
   "id": "4f6794a2-c169-45e7-bede-b2a546500dc1",
   "metadata": {},
   "outputs": [],
   "source": [
    "import numpy as np\n",
    "\n",
    "import matplotlib.pyplot as plt\n",
    "\n",
    "import tensorflow as tf\n",
    "from tensorflow.keras.models import load_model, Model, Sequential\n",
    "from tensorflow.keras.applications.densenet import DenseNet169\n",
    "from tensorflow.keras.applications.vgg16 import VGG16\n",
    "from tensorflow.keras.applications.resnet import ResNet101\n",
    "from tensorflow.keras.preprocessing.image import ImageDataGenerator\n",
    "from tensorflow.keras.preprocessing import image, image_dataset_from_directory\n",
    "from tensorflow.keras.layers import Dense, GlobalAveragePooling2D, Flatten, Conv2D, MaxPooling2D\n",
    "from tensorflow.keras import layers, models, optimizers\n",
    "\n",
    "from stable_baselines3 import PPO\n",
    "import gym\n",
    "from gym import spaces\n",
    "\n",
    "from sklearn.model_selection import train_test_split\n"
   ]
  },
  {
   "cell_type": "markdown",
   "id": "65e10810-276c-4efa-856a-7bb8243c8425",
   "metadata": {},
   "source": [
    "### Define agent and expert dataset path"
   ]
  },
  {
   "cell_type": "code",
   "execution_count": 3,
   "id": "9bbdd28c-528b-46e4-8367-2681b1ff82b9",
   "metadata": {},
   "outputs": [],
   "source": [
    "agent_dataset_path = \"../../dataset/ctscan/3A_images_resized/agent_dataset/\"\n",
    "training_dataset_path = \"../../dataset/ctscan/3A_images_resized/expert_dataset/\""
   ]
  },
  {
   "cell_type": "markdown",
   "id": "398d450a-6411-4487-80a9-d18075f699ef",
   "metadata": {},
   "source": [
    "### Load previously trained expert model"
   ]
  },
  {
   "cell_type": "code",
   "execution_count": 4,
   "id": "16c5c26c-0bce-4932-ae71-c85f9b3d0a8d",
   "metadata": {},
   "outputs": [],
   "source": [
    "# Load expert model\n",
    "expert_model_name = \"./models/ctscan_vgg16net_64_20_expert_acc_99.0.h5\"\n",
    "expert_model = load_model(expert_model_name)"
   ]
  },
  {
   "cell_type": "code",
   "execution_count": 5,
   "id": "c47b1782-c0bf-439c-9e01-cbc146923ed2",
   "metadata": {},
   "outputs": [],
   "source": [
    "IMAGE_SIZE = (224, 224)\n",
    "BATCH_SIZE = 16\n",
    "EPOCHS = 20\n",
    "BASE_MODELS = [\"vgg16net\", \"resnet101\", \"densenet169\"]\n",
    "SEED = 123"
   ]
  },
  {
   "cell_type": "code",
   "execution_count": 6,
   "id": "6370e4f5-a92e-42f9-9df6-cdf346d29dc3",
   "metadata": {},
   "outputs": [
    {
     "name": "stdout",
     "output_type": "stream",
     "text": [
      "Found 8937 files belonging to 3 classes.\n",
      "Using 7150 files for training.\n"
     ]
    }
   ],
   "source": [
    "agent_train_ds = image_dataset_from_directory(\n",
    "  agent_dataset_path + \"train\",\n",
    "  validation_split=0.2,\n",
    "  seed=SEED,\n",
    "  subset=\"training\",\n",
    "  image_size=IMAGE_SIZE,\n",
    "  batch_size=BATCH_SIZE,\n",
    "  shuffle=True\n",
    ")"
   ]
  },
  {
   "cell_type": "code",
   "execution_count": 7,
   "id": "b4094b4b-7f31-49cd-b961-c312c8423818",
   "metadata": {},
   "outputs": [
    {
     "name": "stdout",
     "output_type": "stream",
     "text": [
      "Found 8937 files belonging to 3 classes.\n",
      "Using 1787 files for validation.\n"
     ]
    }
   ],
   "source": [
    "agent_val_ds = image_dataset_from_directory(\n",
    "  agent_dataset_path + \"train\",\n",
    "  validation_split=0.2,\n",
    "  seed=SEED,\n",
    "  subset=\"validation\",\n",
    "  image_size=IMAGE_SIZE,\n",
    "  batch_size=BATCH_SIZE,\n",
    "  shuffle=True\n",
    ")"
   ]
  },
  {
   "cell_type": "code",
   "execution_count": 8,
   "id": "a56ee87c-7acb-475d-a773-84e36ab0291d",
   "metadata": {},
   "outputs": [
    {
     "name": "stdout",
     "output_type": "stream",
     "text": [
      "['0', '1', '2']\n"
     ]
    }
   ],
   "source": [
    "class_names = ['Normal', 'Pneumonia', 'COVID-19']\n",
    "classes = agent_train_ds.class_names\n",
    "print(classes)\n",
    "NUM_CLASSES = len(classes)"
   ]
  },
  {
   "cell_type": "code",
   "execution_count": 9,
   "id": "567a1733-f0d5-4d2d-92a3-9c3319684b38",
   "metadata": {},
   "outputs": [],
   "source": [
    "agent_train_data = []\n",
    "for agent_train_batch, _ in agent_train_ds:\n",
    "    \n",
    "    agent_train_data.extend((agent_train_batch/255.0).numpy())\n",
    "\n",
    "agent_train_data = np.array(agent_train_data)"
   ]
  },
  {
   "cell_type": "code",
   "execution_count": 10,
   "id": "dcfb83c9-a4fa-4c2d-bda7-846207e7bc3b",
   "metadata": {},
   "outputs": [
    {
     "name": "stdout",
     "output_type": "stream",
     "text": [
      "(7150, 224, 224, 3)\n"
     ]
    }
   ],
   "source": [
    "print(agent_train_data.shape)"
   ]
  },
  {
   "cell_type": "code",
   "execution_count": 11,
   "id": "94b38e3e-fe66-4578-8e3c-51704cd5c234",
   "metadata": {},
   "outputs": [
    {
     "name": "stdout",
     "output_type": "stream",
     "text": [
      "224/224 [==============================] - 12s 37ms/step\n"
     ]
    }
   ],
   "source": [
    "expert_predictions_temp = expert_model.predict(agent_train_data)"
   ]
  },
  {
   "cell_type": "code",
   "execution_count": 12,
   "id": "6867efc6-be97-47aa-a68b-164d4cc5a8a8",
   "metadata": {},
   "outputs": [],
   "source": [
    "expert_predictions = (expert_predictions_temp > 0.5).astype(int)\n",
    "expert_predictions = [np.where(x == 1)[0][0] if np.where(x == 1)[0].size > 0 else 0 for x in expert_predictions]"
   ]
  },
  {
   "cell_type": "code",
   "execution_count": 35,
   "id": "37a285c5-0b8c-4579-8fcc-6094ee05f1fe",
   "metadata": {},
   "outputs": [],
   "source": [
    "# Define the imitation policy\n",
    "class ImitationPolicy(tf.keras.Model):\n",
    "    def __init__(self, input_shape, num_classes):\n",
    "        super(ImitationPolicy, self).__init__()\n",
    "        self.num_classes = num_classes\n",
    "        # self.base_model = VGG16(weights=\"imagenet\", include_top=False, input_shape=input_shape)\n",
    "        # self.flatten = Flatten()\n",
    "        # self.output_layer = Dense(num_classes, activation='softmax')\n",
    "        self.conv1 = Conv2D(32, kernel_size=(3, 3), activation='relu', input_shape=(64, 64, 3))\n",
    "        self.pool1 = MaxPooling2D(pool_size=(2, 2))\n",
    "        self.conv2 = Conv2D(64, kernel_size=(3, 3), activation='relu')\n",
    "        self.pool2 = MaxPooling2D(pool_size=(2, 2))\n",
    "        self.flatten = Flatten()\n",
    "        self.fc1 = Dense(128, activation='relu')\n",
    "        self.fc2 = Dense(num_classes, activation='softmax')\n",
    "\n",
    "    def call(self, inputs):\n",
    "        # x = self.base_model(inputs)\n",
    "        # x = self.flatten(x)\n",
    "        # return self.output_layer(x)\n",
    "        x = self.conv1(inputs)\n",
    "        x = self.pool1(x)\n",
    "        x = self.conv2(x)\n",
    "        x = self.pool2(x)\n",
    "        x = self.flatten(x)\n",
    "        x = self.fc1(x)\n",
    "        return self.fc2(x)\n"
   ]
  },
  {
   "cell_type": "code",
   "execution_count": 56,
   "id": "77e61343-77de-45a0-b144-14ba3bfa7a59",
   "metadata": {},
   "outputs": [],
   "source": [
    "# Define the PPO agent\n",
    "class PPOAgent:\n",
    "    def __init__(self, input_shape, num_classes):\n",
    "        self.policy_network = ImitationPolicy(input_shape, num_classes)\n",
    "        self.policy_network.compile(optimizer='adam', loss='categorical_crossentropy', metrics=['accuracy'])\n",
    "        self.optimizer = tf.keras.optimizers.Adam(learning_rate=0.001)\n",
    "\n",
    "    def train_step(self, states, actions, advantages, old_probs):\n",
    "        with tf.GradientTape() as tape:\n",
    "            # Compute new action probabilities\n",
    "            new_probs = self.policy_network(states)\n",
    "            action_masks = tf.one_hot(actions, depth=self.policy_network.num_classes)\n",
    "            selected_probs = tf.reduce_sum(action_masks * new_probs, axis=1)\n",
    "\n",
    "            # Compute PPO loss\n",
    "            ratio = selected_probs / old_probs\n",
    "            clipped_ratio = tf.clip_by_value(ratio, 1 - ppo_clip_ratio, 1 + ppo_clip_ratio)\n",
    "            surrogate1 = ratio * advantages\n",
    "            surrogate2 = clipped_ratio * advantages\n",
    "            policy_loss = -tf.reduce_mean(tf.minimum(surrogate1, surrogate2))\n",
    "            \n",
    "\n",
    "        # Compute gradients and apply updates\n",
    "        gradients = tape.gradient(policy_loss, self.policy_network.trainable_variables)\n",
    "        self.optimizer.apply_gradients(zip(gradients, self.policy_network.trainable_variables))\n",
    "        \n"
   ]
  },
  {
   "cell_type": "code",
   "execution_count": 57,
   "id": "46916727-52a7-462f-bc6c-fd89a4be0241",
   "metadata": {},
   "outputs": [],
   "source": [
    "# Main training loop for imitation learning with PPO\n",
    "def train_imitation_learning(env_name, num_episodes, X_train, y_train):\n",
    "    state_shape = X_train.shape[1:]\n",
    "    num_classes = len(np.unique(labels))\n",
    "    \n",
    "    # Generate expert demonstrations\n",
    "    expert_demonstrations = []\n",
    "    for _ in range(num_episodes):\n",
    "        idx = np.random.choice(len(X_train))\n",
    "        expert_demonstrations.append((X_train[idx], y_train[idx]))\n",
    "\n",
    "    # Train PPO agent with imitation learning\n",
    "    ppo_agent = PPOAgent(state_shape, num_classes)\n",
    "\n",
    "    for _ in range(num_epochs):\n",
    "        \n",
    "        np.random.shuffle(expert_demonstrations)\n",
    "        states, actions = zip(*expert_demonstrations)\n",
    "        states = np.array(states)\n",
    "        actions = np.array(actions)\n",
    "        \n",
    "        a2 = np.max(ppo_agent.policy_network.predict(states[:3]), axis=1)\n",
    "        print(a2, actions[:3])\n",
    "        old_probs = np.max(expert_model.predict(states), axis=1)\n",
    "\n",
    "        ppo_agent.train_step(states, actions, advantages=np.ones_like(actions), old_probs=old_probs)\n",
    "        \n",
    "    return ppo_agent"
   ]
  },
  {
   "cell_type": "code",
   "execution_count": 58,
   "id": "a8fa3cda-9d59-48dc-a5cc-0fadef45fca8",
   "metadata": {},
   "outputs": [
    {
     "name": "stdout",
     "output_type": "stream",
     "text": [
      "1/1 [==============================] - 0s 116ms/step\n",
      "[0.33812985 0.34666649 0.34010994] [0 0 2]\n",
      "4/4 [==============================] - 0s 97ms/step\n",
      "1/1 [==============================] - 0s 21ms/step\n",
      "[0.99741614 0.9998629  0.99509925] [1 0 1]\n",
      "4/4 [==============================] - 0s 32ms/step\n",
      "1/1 [==============================] - 0s 20ms/step\n",
      "[0.9995314  0.79731166 0.99830747] [2 0 2]\n",
      "4/4 [==============================] - 0s 33ms/step\n",
      "1/1 [==============================] - 0s 20ms/step\n",
      "[1. 1. 1.] [0 0 0]\n",
      "4/4 [==============================] - 0s 33ms/step\n",
      "1/1 [==============================] - 0s 19ms/step\n",
      "[1. 1. 1.] [2 0 0]\n",
      "4/4 [==============================] - 0s 32ms/step\n",
      "1/1 [==============================] - 0s 24ms/step\n",
      "[1. 1. 1.] [1 1 2]\n",
      "4/4 [==============================] - 0s 32ms/step\n",
      "1/1 [==============================] - 0s 20ms/step\n",
      "[1. 1. 1.] [0 0 2]\n",
      "4/4 [==============================] - 0s 33ms/step\n",
      "1/1 [==============================] - 0s 20ms/step\n",
      "[1. 1. 1.] [0 1 0]\n",
      "4/4 [==============================] - 0s 32ms/step\n",
      "1/1 [==============================] - 0s 20ms/step\n",
      "[1. 1. 1.] [2 1 2]\n",
      "4/4 [==============================] - 0s 33ms/step\n",
      "1/1 [==============================] - 0s 21ms/step\n",
      "[1. 1. 1.] [2 0 1]\n",
      "4/4 [==============================] - 0s 32ms/step\n",
      "1/1 [==============================] - 0s 20ms/step\n",
      "[1. 1. 1.] [0 0 0]\n",
      "4/4 [==============================] - 0s 33ms/step\n",
      "1/1 [==============================] - 0s 20ms/step\n",
      "[1. 1. 1.] [2 1 0]\n",
      "4/4 [==============================] - 0s 33ms/step\n",
      "1/1 [==============================] - 0s 20ms/step\n",
      "[1. 1. 1.] [1 2 2]\n",
      "4/4 [==============================] - 0s 32ms/step\n",
      "1/1 [==============================] - 0s 20ms/step\n",
      "[1. 1. 1.] [0 0 2]\n",
      "4/4 [==============================] - 0s 33ms/step\n",
      "1/1 [==============================] - 0s 20ms/step\n",
      "[1. 1. 1.] [2 1 2]\n",
      "4/4 [==============================] - 0s 33ms/step\n",
      "1/1 [==============================] - 0s 19ms/step\n",
      "[1. 1. 1.] [1 0 2]\n",
      "4/4 [==============================] - 0s 33ms/step\n",
      "1/1 [==============================] - 0s 21ms/step\n",
      "[1. 1. 1.] [0 2 0]\n",
      "4/4 [==============================] - 0s 33ms/step\n",
      "1/1 [==============================] - 0s 19ms/step\n",
      "[1. 1. 1.] [1 0 1]\n",
      "4/4 [==============================] - 0s 33ms/step\n",
      "1/1 [==============================] - 0s 20ms/step\n",
      "[1. 1. 1.] [1 0 1]\n",
      "4/4 [==============================] - 0s 32ms/step\n",
      "1/1 [==============================] - 0s 20ms/step\n",
      "[1. 1. 1.] [1 1 1]\n",
      "4/4 [==============================] - 0s 33ms/step\n"
     ]
    }
   ],
   "source": [
    "env_name = 'CTSCAN-V1'\n",
    "num_episodes = 100\n",
    "num_epochs = 20\n",
    "ppo_clip_ratio = 0.2\n",
    "\n",
    "# Load data (replace this with your data loading code)\n",
    "images, labels = agent_train_data, expert_predictions\n",
    "\n",
    "# Split data into training and validation sets\n",
    "X_train, X_val, y_train, y_val = train_test_split(images, labels, test_size=0.2, random_state=42)\n",
    "\n",
    "ppo_agent = train_imitation_learning(env_name, num_episodes, X_train, y_train)"
   ]
  },
  {
   "cell_type": "code",
   "execution_count": 48,
   "id": "23f56ed3-6cfc-4046-91bd-151ea7dccc52",
   "metadata": {},
   "outputs": [],
   "source": [
    "def evaluate_policy(policy_network, test_images, test_labels):\n",
    "    predictions = np.argmax(policy_network.predict(test_images), axis=1)\n",
    "    accuracy = np.mean(predictions == test_labels)\n",
    "    return accuracy"
   ]
  },
  {
   "cell_type": "code",
   "execution_count": 49,
   "id": "cce9403d-fc48-4c91-a664-88591f18a885",
   "metadata": {},
   "outputs": [
    {
     "name": "stdout",
     "output_type": "stream",
     "text": [
      "45/45 [==============================] - 1s 6ms/step\n",
      "[1]\n",
      "Accuracy on test data: 0.413986013986014\n"
     ]
    }
   ],
   "source": [
    "accuracy = evaluate_policy(ppo_agent.policy_network, X_val, y_val)\n",
    "print(\"Accuracy on test data:\", accuracy)"
   ]
  },
  {
   "cell_type": "code",
   "execution_count": 59,
   "id": "bbd66c83-026d-4679-8260-fa2525325b99",
   "metadata": {},
   "outputs": [],
   "source": [
    "model = ppo_agent.policy_network"
   ]
  },
  {
   "cell_type": "code",
   "execution_count": 71,
   "id": "e3249df2-b8b7-4a0a-b60a-799ddb08e659",
   "metadata": {},
   "outputs": [],
   "source": [
    "agent_val_data, agent_val_label = [], []\n",
    "for agent_val_data_batch, agent_val_lab_batch in agent_val_ds:\n",
    "    agent_val_data.extend((agent_val_data_batch/255.0).numpy())\n",
    "    agent_val_label.extend(agent_val_lab_batch.numpy())\n",
    "\n",
    "agent_val_data = np.array(agent_val_data)\n",
    "agent_val_label = np.array(agent_val_label)"
   ]
  },
  {
   "cell_type": "code",
   "execution_count": 88,
   "id": "c83820df-1c32-4b24-a42e-265736d7d440",
   "metadata": {},
   "outputs": [
    {
     "name": "stdout",
     "output_type": "stream",
     "text": [
      "56/56 [==============================] - 0s 6ms/step\n"
     ]
    }
   ],
   "source": [
    "val_predictions = ppo_agent.policy_network.predict(agent_val_data)\n",
    "val_predicted_labels = np.argmax(val_predictions, axis=1)"
   ]
  },
  {
   "cell_type": "code",
   "execution_count": 76,
   "id": "20818f48-a032-434e-bbc1-7d5fa9526e7e",
   "metadata": {},
   "outputs": [],
   "source": [
    "from sklearn.metrics import confusion_matrix, multilabel_confusion_matrix, accuracy_score, precision_score, f1_score, roc_auc_score\n",
    "from sklearn.metrics import ConfusionMatrixDisplay"
   ]
  },
  {
   "cell_type": "code",
   "execution_count": 94,
   "id": "6f507ab9-4a5e-4fac-842e-3e1bad57bc44",
   "metadata": {},
   "outputs": [
    {
     "name": "stdout",
     "output_type": "stream",
     "text": [
      "Accuracy: 0.34359261331841073\n",
      "Precision: 0.34359261331841073\n",
      "F1 Score: 0.34359261331841073\n",
      "Confusion Matrix:\n",
      " [[614   0   0]\n",
      " [591   0   0]\n",
      " [582   0   0]]\n"
     ]
    },
    {
     "data": {
      "image/png": "[encoded data removed]",
      "text/plain": [
       "<Figure size 640x480 with 2 Axes>"
      ]
     },
     "metadata": {},
     "output_type": "display_data"
    }
   ],
   "source": [
    "# loss, accuracy = model.evaluate(val_generator, steps=len(val_generator))\n",
    "accuracy = accuracy_score(agent_val_label, val_predicted_labels)\n",
    "\n",
    "# Calculate precision\n",
    "precision = precision_score(agent_val_label, val_predicted_labels, average='micro')\n",
    "\n",
    "# Calculate F1 score\n",
    "f1 = f1_score(agent_val_label, val_predicted_labels, average='micro')\n",
    "\n",
    "# Calculate AUC-ROC\n",
    "#auc_roc = roc_auc_score(agent_val_label, val_predictions, average='micro')\n",
    "\n",
    "# Calculate confusion matrix\n",
    "# conf_matrix = multilabel_confusion_matrix(val_labels, val_predicted_labels)\n",
    "conf_matrix = confusion_matrix(agent_val_label, val_predicted_labels)\n",
    "\n",
    "print(\"Accuracy:\", accuracy)\n",
    "# print(\"Loss:\", loss)\n",
    "print(\"Precision:\", precision)\n",
    "print(\"F1 Score:\", f1)\n",
    "#print(\"AUC-ROC Score:\", auc_roc)\n",
    "print(\"Confusion Matrix:\\n\", conf_matrix)\n",
    "disp = ConfusionMatrixDisplay(confusion_matrix=conf_matrix, display_labels=class_names)\n",
    "disp.plot(cmap=plt.cm.Blues, values_format='d')\n",
    "plt.title('Confusion Matrix')\n",
    "plt.show()"
   ]
  },
  {
   "cell_type": "code",
   "execution_count": 31,
   "id": "c1975caf-abf0-45dc-9b16-410b74004fc9",
   "metadata": {},
   "outputs": [],
   "source": [
    "model_name = \"./models/ctscan_final_\"  + \"acc_\" + str(round(accuracy * 100, 1)) + \".h5\"\n",
    "model.save_weights(model_name)"
   ]
  },
  {
   "cell_type": "code",
   "execution_count": null,
   "id": "b144a6c5-5c68-4bc9-8475-347c215e6d89",
   "metadata": {},
   "outputs": [],
   "source": []
  }
 ],
 "metadata": {
  "kernelspec": {
   "display_name": "Python 3 (ipykernel)",
   "language": "python",
   "name": "python3"
  },
  "language_info": {
   "codemirror_mode": {
    "name": "ipython",
    "version": 3
   },
   "file_extension": ".py",
   "mimetype": "text/x-python",
   "name": "python",
   "nbconvert_exporter": "python",
   "pygments_lexer": "ipython3",
   "version": "3.9.0"
  }
 },
 "nbformat": 4,
 "nbformat_minor": 5
}
