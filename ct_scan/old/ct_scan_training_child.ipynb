{
 "cells": [
  {
   "cell_type": "markdown",
   "id": "aa77ffe6-52e6-4edc-ac5e-7d73a312e37e",
   "metadata": {},
   "source": [
    "### Import necessary libraries"
   ]
  },
  {
   "cell_type": "code",
   "execution_count": 1,
   "id": "c28281ec-28a8-4ac1-8529-6071b1d6b5ee",
   "metadata": {},
   "outputs": [],
   "source": [
    "import numpy as np\n",
    "\n",
    "import matplotlib.pyplot as plt\n",
    "\n",
    "# Tensorflow\n",
    "import tensorflow as tf\n",
    "from tensorflow.keras.applications.vgg16 import VGG16\n",
    "from tensorflow.keras.applications.resnet import ResNet101\n",
    "from tensorflow.keras.applications.densenet import DenseNet169\n",
    "from tensorflow.keras.preprocessing.image import ImageDataGenerator\n",
    "from tensorflow.keras.models import Model\n",
    "from tensorflow.keras.layers import Dense, GlobalAveragePooling2D, Flatten"
   ]
  },
  {
   "cell_type": "markdown",
   "id": "19eb13e5-6dc8-405e-9d8e-317df27609c0",
   "metadata": {},
   "source": [
    "### Check if GPU is available or not"
   ]
  },
  {
   "cell_type": "code",
   "execution_count": 2,
   "id": "8d06cdc2-06ae-482a-853b-bdc59566c754",
   "metadata": {},
   "outputs": [
    {
     "name": "stdout",
     "output_type": "stream",
     "text": [
      "[PhysicalDevice(name='/physical_device:GPU:0', device_type='GPU')]\n"
     ]
    }
   ],
   "source": [
    "print(tf.config.list_physical_devices('GPU'))"
   ]
  },
  {
   "cell_type": "markdown",
   "id": "16cbe6e8-0fec-41ab-8a73-87d7ed89fd12",
   "metadata": {},
   "source": [
    "### Define dataset directory"
   ]
  },
  {
   "cell_type": "code",
   "execution_count": 3,
   "id": "0d9a57cd-5124-4b53-aa68-627ad3c0a2d1",
   "metadata": {},
   "outputs": [],
   "source": [
    "dataset_path = \"../../dataset/ctscan/3A_images_resized/rl_dataset/\""
   ]
  },
  {
   "cell_type": "markdown",
   "id": "e154b26a-fb1c-440d-835e-688f4ff9e113",
   "metadata": {},
   "source": [
    "### Define some parameters for model"
   ]
  },
  {
   "cell_type": "code",
   "execution_count": 5,
   "id": "7a65be1a-f4dd-43a7-be34-7731b580477e",
   "metadata": {},
   "outputs": [],
   "source": [
    "IMAGE_WIDTH = 224\n",
    "IMAGE_HEIGHT = 224\n",
    "IMAGE_SIZE = (IMAGE_WIDTH, IMAGE_HEIGHT)\n",
    "BATCH_SIZE = 64\n",
    "EPOCHS = 20\n",
    "BASE_MODELS = [\"vgg16\", \"resnet101\", \"densenet169\"]"
   ]
  },
  {
   "cell_type": "markdown",
   "id": "bbc091f3-c5fa-46a5-9be6-d52332f949fb",
   "metadata": {},
   "source": [
    "### Create object of ImageDataGenerator to load the data for training and validation"
   ]
  },
  {
   "cell_type": "code",
   "execution_count": 7,
   "id": "94206477-83d7-4b60-9f0b-6e83cb45fb36",
   "metadata": {},
   "outputs": [],
   "source": [
    "datagen = ImageDataGenerator(\n",
    "  rescale=1./255,\n",
    "  width_shift_range=0.1,\n",
    "  height_shift_range=0.1,\n",
    "  # shear_range=0.1,\n",
    "  zoom_range=0.2,\n",
    "  # horizontal_flip=True,\n",
    "  fill_mode='nearest',\n",
    "  validation_split=0.2\n",
    ")"
   ]
  },
  {
   "cell_type": "markdown",
   "id": "2d4771f4-c094-4922-b2dd-6c2b441fb4b8",
   "metadata": {},
   "source": [
    "### Load the training data from dataset folder (split images from this folder as specified in datagen object)"
   ]
  },
  {
   "cell_type": "code",
   "execution_count": 9,
   "id": "b44c1ed2-ba8f-4e1a-a3d2-33ced568642f",
   "metadata": {},
   "outputs": [
    {
     "name": "stdout",
     "output_type": "stream",
     "text": [
      "Found 1601 images belonging to 3 classes.\n"
     ]
    }
   ],
   "source": [
    "train_generator = datagen.flow_from_directory(\n",
    "  dataset_path + \"child_data\",\n",
    "  subset=\"training\",\n",
    "  class_mode='categorical',\n",
    "  target_size=IMAGE_SIZE,\n",
    "  batch_size=BATCH_SIZE\n",
    ")"
   ]
  },
  {
   "cell_type": "markdown",
   "id": "f051f05b-2621-470d-9b59-67ee17baca17",
   "metadata": {},
   "source": [
    "### Load the model validation data from dataset folder (split images from this folder as specified in datagen object)"
   ]
  },
  {
   "cell_type": "code",
   "execution_count": 11,
   "id": "09bcbde4-2908-4b1f-8778-4b282f009293",
   "metadata": {},
   "outputs": [
    {
     "name": "stdout",
     "output_type": "stream",
     "text": [
      "Found 399 images belonging to 3 classes.\n"
     ]
    }
   ],
   "source": [
    "val_generator = datagen.flow_from_directory(\n",
    "  dataset_path + \"child_data\",\n",
    "  subset=\"validation\",\n",
    "  class_mode='categorical',\n",
    "  target_size=IMAGE_SIZE,\n",
    "  batch_size=BATCH_SIZE\n",
    ")"
   ]
  },
  {
   "cell_type": "markdown",
   "id": "998d6883-aefd-4d9e-a318-e667824ee839",
   "metadata": {},
   "source": [
    "### Examine the classes"
   ]
  },
  {
   "cell_type": "code",
   "execution_count": 13,
   "id": "0bbd6616-a4be-4ed1-98dc-0bca6ff9ec61",
   "metadata": {},
   "outputs": [
    {
     "name": "stdout",
     "output_type": "stream",
     "text": [
      "{'Covid19': 0, 'Normal': 1, 'Pneumonia': 2}\n"
     ]
    }
   ],
   "source": [
    "class_names = ['Covid19', 'Normal', 'Pneumonia']\n",
    "classes = train_generator.class_indices\n",
    "print(classes)\n",
    "NUM_CLASSES = len(classes)"
   ]
  },
  {
   "cell_type": "code",
   "execution_count": 14,
   "id": "37763101-bcf9-4c6c-bde3-84e6bcbd20e0",
   "metadata": {},
   "outputs": [],
   "source": [
    "# base_model = VGG16(input_shape=(IMAGE_WIDTH, IMAGE_HEIGHT, 3), include_top=False, weights ='imagenet')\n",
    "# base_model = ResNet101(input_shape=(IMAGE_WIDTH, IMAGE_HEIGHT, 3), include_top=False, weights='imagenet')\n",
    "# base_model = DenseNet169(input_shape=(IMAGE_WIDTH, IMAGE_HEIGHT, 3), include_top=False, weights ='imagenet')"
   ]
  },
  {
   "cell_type": "markdown",
   "id": "342da136-3393-4898-901f-9313e528053c",
   "metadata": {},
   "source": [
    "### Define a function to choose base Model for transfer learning"
   ]
  },
  {
   "cell_type": "code",
   "execution_count": 15,
   "id": "04444640-8911-4df4-bab3-b30b588336c3",
   "metadata": {},
   "outputs": [],
   "source": [
    "def get_model(model_sel):\n",
    "  if model_sel == 1:\n",
    "    vgg_pre_t = VGG16(input_shape=(IMAGE_WIDTH, IMAGE_HEIGHT, 3), include_top=False, weights ='imagenet')\n",
    "    return vgg_pre_t, 25088\n",
    "\n",
    "  elif model_sel == 2:\n",
    "    resnet_pre_t = ResNet101(input_shape=(IMAGE_WIDTH, IMAGE_HEIGHT, 3), include_top=False, weights='imagenet')\n",
    "    return resnet_pre_t, 100352\n",
    "\n",
    "  elif model_sel == 3:\n",
    "    densenet169_pre_t = DenseNet169(input_shape=(IMAGE_WIDTH, IMAGE_HEIGHT, 3), include_top=False, weights ='imagenet' )\n",
    "    return densenet169_pre_t, 81536"
   ]
  },
  {
   "cell_type": "markdown",
   "id": "2709ec95-237e-49ff-8bf5-148c628cf729",
   "metadata": {},
   "source": [
    "### Choose one Model"
   ]
  },
  {
   "cell_type": "code",
   "execution_count": 16,
   "id": "e557e13a-ccc1-4be8-95ac-6cfee22b636c",
   "metadata": {},
   "outputs": [],
   "source": [
    "select_model = 1 # int(input(\"Enter the number for: \\n 1) VGG16 \\n 2) Resnet101  \\n 3) Densenet169 \"))"
   ]
  },
  {
   "cell_type": "markdown",
   "id": "d1155c3a-9446-4d39-a9b8-145f450dd5eb",
   "metadata": {},
   "source": [
    "### Get the chosen Model"
   ]
  },
  {
   "cell_type": "code",
   "execution_count": 17,
   "id": "a158f9ae-6165-420a-ba98-f71f968926a9",
   "metadata": {},
   "outputs": [],
   "source": [
    "base_model, feature_size = get_model(select_model)"
   ]
  },
  {
   "cell_type": "markdown",
   "id": "fde05904-b5e4-4898-af18-14cc8b2a38ee",
   "metadata": {},
   "source": [
    "### Freeze the layers of base model as training is not needed for them"
   ]
  },
  {
   "cell_type": "code",
   "execution_count": 18,
   "id": "f68e50a9-b05d-4825-b275-e8d30d6d8c28",
   "metadata": {},
   "outputs": [
    {
     "name": "stdout",
     "output_type": "stream",
     "text": [
      "19\n"
     ]
    }
   ],
   "source": [
    "print(len(base_model.layers))\n",
    "for layer in base_model.layers:\n",
    "  layer.trainable = False"
   ]
  },
  {
   "cell_type": "markdown",
   "id": "411c1a58-6e0a-4ccd-afea-feaed87f508a",
   "metadata": {},
   "source": [
    "### Make some customization on the output layer of base Model"
   ]
  },
  {
   "cell_type": "code",
   "execution_count": 19,
   "id": "c7dc26f5-3204-4f48-9168-2201d2de5221",
   "metadata": {},
   "outputs": [
    {
     "name": "stdout",
     "output_type": "stream",
     "text": [
      "(None, 25088) (None, 3)\n"
     ]
    }
   ],
   "source": [
    "x = base_model.output\n",
    "# x = GlobalAveragePooling2D()(x)\n",
    "# x = MaxPooling2D()(x)\n",
    "# x = Dense(1024, activation='relu')(x)\n",
    "x = Flatten()(x)\n",
    "\n",
    "predictions = Dense(NUM_CLASSES, activation='softmax')(x)\n",
    "print(x.shape, predictions.shape)"
   ]
  },
  {
   "cell_type": "markdown",
   "id": "3b016374-d869-41ca-894e-d75c0bf5efcb",
   "metadata": {},
   "source": [
    "### Initialize model based on base Model"
   ]
  },
  {
   "cell_type": "code",
   "execution_count": 20,
   "id": "3ef00aad-96e8-4392-82da-20c7ccee38da",
   "metadata": {},
   "outputs": [],
   "source": [
    "model = Model(inputs=base_model.input, outputs=predictions)"
   ]
  },
  {
   "cell_type": "markdown",
   "id": "00f2ef6a-390a-4f5a-a3c6-5cb7014c01a0",
   "metadata": {},
   "source": [
    "### Compile Model"
   ]
  },
  {
   "cell_type": "code",
   "execution_count": 21,
   "id": "ec0ff2fd-a5bc-447d-a8f2-71bac8abca2c",
   "metadata": {},
   "outputs": [],
   "source": [
    "model.compile(optimizer='adam', loss='categorical_crossentropy', metrics=['accuracy'])"
   ]
  },
  {
   "cell_type": "markdown",
   "id": "98094e21-343f-4067-9aac-474b1ac6e634",
   "metadata": {},
   "source": [
    "### Train Model"
   ]
  },
  {
   "cell_type": "code",
   "execution_count": 22,
   "id": "f567aff6-bfdd-48fe-b19f-97abebc707b2",
   "metadata": {},
   "outputs": [
    {
     "name": "stdout",
     "output_type": "stream",
     "text": [
      "Epoch 1/20\n",
      "26/26 [==============================] - 47s 2s/step - loss: 1.0640 - accuracy: 0.6371 - val_loss: 0.4104 - val_accuracy: 0.8496\n",
      "Epoch 2/20\n",
      "26/26 [==============================] - 18s 708ms/step - loss: 0.1844 - accuracy: 0.9388 - val_loss: 0.3713 - val_accuracy: 0.8095\n",
      "Epoch 3/20\n",
      "26/26 [==============================] - 18s 702ms/step - loss: 0.1109 - accuracy: 0.9713 - val_loss: 0.3580 - val_accuracy: 0.8195\n",
      "Epoch 4/20\n",
      "26/26 [==============================] - 18s 701ms/step - loss: 0.1013 - accuracy: 0.9706 - val_loss: 0.3285 - val_accuracy: 0.8797\n",
      "Epoch 5/20\n",
      "26/26 [==============================] - 18s 697ms/step - loss: 0.0672 - accuracy: 0.9813 - val_loss: 0.2846 - val_accuracy: 0.8797\n",
      "Epoch 6/20\n",
      "26/26 [==============================] - 18s 698ms/step - loss: 0.0498 - accuracy: 0.9888 - val_loss: 0.2786 - val_accuracy: 0.8772\n",
      "Epoch 7/20\n",
      "26/26 [==============================] - 18s 695ms/step - loss: 0.0468 - accuracy: 0.9888 - val_loss: 0.3411 - val_accuracy: 0.8496\n",
      "Epoch 8/20\n",
      "26/26 [==============================] - 18s 697ms/step - loss: 0.0438 - accuracy: 0.9925 - val_loss: 0.4441 - val_accuracy: 0.7669\n",
      "Epoch 9/20\n",
      "26/26 [==============================] - 18s 697ms/step - loss: 0.0415 - accuracy: 0.9919 - val_loss: 0.3749 - val_accuracy: 0.8521\n",
      "Epoch 10/20\n",
      "26/26 [==============================] - 18s 698ms/step - loss: 0.0366 - accuracy: 0.9931 - val_loss: 0.3649 - val_accuracy: 0.8421\n",
      "Epoch 11/20\n",
      "26/26 [==============================] - 18s 703ms/step - loss: 0.0257 - accuracy: 0.9969 - val_loss: 0.3195 - val_accuracy: 0.8396\n",
      "Epoch 12/20\n",
      "26/26 [==============================] - 18s 704ms/step - loss: 0.0255 - accuracy: 0.9956 - val_loss: 0.3045 - val_accuracy: 0.8496\n",
      "Epoch 13/20\n",
      "26/26 [==============================] - 18s 731ms/step - loss: 0.0228 - accuracy: 0.9969 - val_loss: 0.3481 - val_accuracy: 0.8421\n",
      "Epoch 14/20\n",
      "26/26 [==============================] - 18s 712ms/step - loss: 0.0177 - accuracy: 0.9994 - val_loss: 0.2865 - val_accuracy: 0.8747\n",
      "Epoch 15/20\n",
      "26/26 [==============================] - 18s 707ms/step - loss: 0.0170 - accuracy: 0.9994 - val_loss: 0.2941 - val_accuracy: 0.8722\n",
      "Epoch 16/20\n",
      "26/26 [==============================] - 18s 708ms/step - loss: 0.0152 - accuracy: 0.9981 - val_loss: 0.2383 - val_accuracy: 0.8972\n",
      "Epoch 17/20\n",
      "26/26 [==============================] - 18s 707ms/step - loss: 0.0118 - accuracy: 0.9994 - val_loss: 0.2970 - val_accuracy: 0.8596\n",
      "Epoch 18/20\n",
      "26/26 [==============================] - 18s 703ms/step - loss: 0.0146 - accuracy: 0.9988 - val_loss: 0.2345 - val_accuracy: 0.8997\n",
      "Epoch 19/20\n",
      "26/26 [==============================] - 18s 705ms/step - loss: 0.0139 - accuracy: 0.9994 - val_loss: 0.2924 - val_accuracy: 0.8722\n",
      "Epoch 20/20\n",
      "26/26 [==============================] - 18s 703ms/step - loss: 0.0111 - accuracy: 0.9994 - val_loss: 0.3042 - val_accuracy: 0.8596\n"
     ]
    }
   ],
   "source": [
    "history = model.fit(train_generator,\n",
    "          steps_per_epoch=len(train_generator),\n",
    "          epochs=EPOCHS,\n",
    "          validation_data=val_generator,\n",
    "          validation_steps=len(val_generator))"
   ]
  },
  {
   "cell_type": "markdown",
   "id": "e7339dc9-9775-484a-8d0e-abd385443514",
   "metadata": {},
   "source": [
    "### Visualize the training process from accuracy"
   ]
  },
  {
   "cell_type": "code",
   "execution_count": 23,
   "id": "de261f5f-06a6-4b41-a3d3-e30a3c76ac24",
   "metadata": {},
   "outputs": [
    {
     "data": {
      "image/png": "[encoded data removed]",
      "text/plain": [
       "<Figure size 640x480 with 1 Axes>"
      ]
     },
     "metadata": {},
     "output_type": "display_data"
    }
   ],
   "source": [
    "plt.plot(history.history['accuracy'], label='Training Accuracy')\n",
    "plt.plot(history.history['val_accuracy'], label='Validation Accuracy')\n",
    "plt.title('Training and Validation Accuracy')\n",
    "plt.xlabel('Epoch')\n",
    "plt.ylabel('Accuracy')\n",
    "plt.legend()\n",
    "plt.show()"
   ]
  },
  {
   "cell_type": "markdown",
   "id": "a6af1204-4ea2-4137-839b-dd7f05e0ccb6",
   "metadata": {},
   "source": [
    "### Visualize the training process from loss"
   ]
  },
  {
   "cell_type": "code",
   "execution_count": 24,
   "id": "33f4cabb-8b7f-43c8-a9d6-ff96efccfbd1",
   "metadata": {},
   "outputs": [
    {
     "data": {
      "image/png": "[encoded data removed]",
      "text/plain": [
       "<Figure size 640x480 with 1 Axes>"
      ]
     },
     "metadata": {},
     "output_type": "display_data"
    }
   ],
   "source": [
    "plt.plot(history.history['loss'], label='Training Loss')\n",
    "plt.plot(history.history['val_loss'], label='Validation Loss')\n",
    "plt.title('Training and Validation Accuracy')\n",
    "plt.xlabel('Epoch')\n",
    "plt.ylabel('Loss')\n",
    "plt.legend()\n",
    "plt.show()"
   ]
  },
  {
   "cell_type": "markdown",
   "id": "50edae8d-3523-4461-b16a-679c8e25b791",
   "metadata": {},
   "source": [
    "### Save Model"
   ]
  },
  {
   "cell_type": "code",
   "execution_count": 25,
   "id": "1f5c8a7f-0fcc-42bf-8443-f4010d481d37",
   "metadata": {},
   "outputs": [],
   "source": [
    "val_accuracy_list = history.history['val_accuracy']\n",
    "val_accuracy = val_accuracy_list[-1] # last epoch value"
   ]
  },
  {
   "cell_type": "code",
   "execution_count": 30,
   "id": "77e14709-6a23-42b3-8336-8c63fc501488",
   "metadata": {},
   "outputs": [
    {
     "name": "stdout",
     "output_type": "stream",
     "text": [
      "./models/ctscan_vgg16_64_20_child_acc_86.0.h5\n"
     ]
    }
   ],
   "source": [
    "model_name = \"./models/ctscan_\" + BASE_MODELS[select_model-1] + \"_\" + str(BATCH_SIZE) + \"_\" + str(EPOCHS) + \"_child_acc_\" + str(round(val_accuracy * 100, 1)) + \".h5\"\n",
    "model.save(model_name)\n",
    "print(model_name)"
   ]
  },
  {
   "cell_type": "markdown",
   "id": "d1211ff8-593b-4553-85d7-3053068ab667",
   "metadata": {},
   "source": [
    "### Import necessary models for evaluations"
   ]
  },
  {
   "cell_type": "code",
   "execution_count": 27,
   "id": "94dd8350-9717-4a88-8e1e-1871cd2baf04",
   "metadata": {},
   "outputs": [],
   "source": [
    "from sklearn.metrics import confusion_matrix, multilabel_confusion_matrix, accuracy_score, precision_score, f1_score, roc_auc_score\n",
    "from sklearn.metrics import ConfusionMatrixDisplay"
   ]
  },
  {
   "cell_type": "markdown",
   "id": "84273fdc-8b3f-4da8-8af3-2b8bc8e40040",
   "metadata": {},
   "source": [
    "### Evaluate the Model"
   ]
  },
  {
   "cell_type": "code",
   "execution_count": 28,
   "id": "8e7bd571-aad3-4031-b7cd-f8fafb072ef0",
   "metadata": {},
   "outputs": [
    {
     "name": "stdout",
     "output_type": "stream",
     "text": [
      "13/13 [==============================] - 2s 32ms/step\n"
     ]
    }
   ],
   "source": [
    "val_data, val_labels = [], []\n",
    "for _ in range(len(val_generator)):\n",
    "    batch_data, batch_labels = val_generator.next()\n",
    "    val_data.append(batch_data)\n",
    "    val_labels.append(batch_labels)\n",
    "\n",
    "val_data = np.concatenate(val_data)\n",
    "val_labels = np.concatenate(val_labels)\n",
    "\n",
    "# Make predictions on the validation set\n",
    "val_predictions = model.predict(val_data)"
   ]
  },
  {
   "cell_type": "code",
   "execution_count": 2,
   "id": "28e0ab70-2c95-4f78-9280-bbd2bf2712b2",
   "metadata": {},
   "outputs": [
    {
     "ename": "NameError",
     "evalue": "name 'val_predictions' is not defined",
     "output_type": "error",
     "traceback": [
      "\u001b[1;31m---------------------------------------------------------------------------\u001b[0m",
      "\u001b[1;31mNameError\u001b[0m                                 Traceback (most recent call last)",
      "Cell \u001b[1;32mIn[2], line 2\u001b[0m\n\u001b[0;32m      1\u001b[0m \u001b[38;5;66;03m# Convert predicted probabilities to predicted class labels\u001b[39;00m\n\u001b[1;32m----> 2\u001b[0m val_predicted_labels \u001b[38;5;241m=\u001b[39m (\u001b[43mval_predictions\u001b[49m \u001b[38;5;241m>\u001b[39m \u001b[38;5;241m0.5\u001b[39m)\u001b[38;5;241m.\u001b[39mastype(\u001b[38;5;28mint\u001b[39m)  \u001b[38;5;66;03m# Thresholding at 0.5\u001b[39;00m\n\u001b[0;32m      4\u001b[0m p_l \u001b[38;5;241m=\u001b[39m [np\u001b[38;5;241m.\u001b[39mwhere(x \u001b[38;5;241m==\u001b[39m \u001b[38;5;241m1\u001b[39m)[\u001b[38;5;241m0\u001b[39m][\u001b[38;5;241m0\u001b[39m] \u001b[38;5;28;01mif\u001b[39;00m \u001b[38;5;28mlen\u001b[39m(np\u001b[38;5;241m.\u001b[39mwhere(x \u001b[38;5;241m==\u001b[39m \u001b[38;5;241m1\u001b[39m)[\u001b[38;5;241m0\u001b[39m])\u001b[38;5;241m>\u001b[39m \u001b[38;5;241m0\u001b[39m \u001b[38;5;28;01melse\u001b[39;00m \u001b[38;5;241m0\u001b[39m \u001b[38;5;28;01mfor\u001b[39;00m x \u001b[38;5;129;01min\u001b[39;00m val_predicted_labels]\n\u001b[0;32m      5\u001b[0m t_l \u001b[38;5;241m=\u001b[39m [np\u001b[38;5;241m.\u001b[39mwhere(x \u001b[38;5;241m==\u001b[39m \u001b[38;5;241m1\u001b[39m)[\u001b[38;5;241m0\u001b[39m][\u001b[38;5;241m0\u001b[39m] \u001b[38;5;28;01mfor\u001b[39;00m x \u001b[38;5;129;01min\u001b[39;00m val_labels]\n",
      "\u001b[1;31mNameError\u001b[0m: name 'val_predictions' is not defined"
     ]
    }
   ],
   "source": [
    "# Convert predicted probabilities to predicted class labels\n",
    "val_predicted_labels = (val_predictions > 0.5).astype(int)  # Thresholding at 0.5\n",
    "\n",
    "p_l = [np.where(x == 1)[0][0] if len(np.where(x == 1)[0])> 0 else 0 for x in val_predicted_labels]\n",
    "t_l = [np.where(x == 1)[0][0] for x in val_labels]\n",
    "\n",
    "# loss, accuracy = model.evaluate(val_generator, steps=len(val_generator))\n",
    "accuracy = accuracy_score(val_labels, val_predicted_labels)\n",
    "\n",
    "# Calculate precision\n",
    "precision = precision_score(val_labels, val_predicted_labels, average='micro')\n",
    "\n",
    "# Calculate F1 score\n",
    "f1 = f1_score(val_labels, val_predicted_labels, average='micro')\n",
    "\n",
    "# Calculate AUC-ROC\n",
    "auc_roc = roc_auc_score(val_labels, val_predictions, average='micro')\n",
    "\n",
    "# Calculate confusion matrix\n",
    "# conf_matrix = multilabel_confusion_matrix(val_labels, val_predicted_labels)\n",
    "conf_matrix = confusion_matrix(t_l, p_l)\n",
    "\n",
    "\n",
    "disp = ConfusionMatrixDisplay(confusion_matrix=conf_matrix, display_labels=class_names)\n",
    "disp.plot(cmap=plt.cm.Blues, values_format='d')\n",
    "plt.title('Confusion Matrix')\n",
    "plt.show()\n",
    "\n",
    "print(\"Accuracy:\", accuracy)\n",
    "# print(\"Loss:\", loss)\n",
    "print(\"Precision:\", precision)\n",
    "print(\"F1 Score:\", f1)\n",
    "print(\"AUC-ROC Score:\", auc_roc)\n",
    "print(\"Confusion Matrix:\\n\", conf_matrix)"
   ]
  },
  {
   "cell_type": "markdown",
   "id": "2f8c18da-3cf8-4e30-890b-f107b2c8d648",
   "metadata": {},
   "source": [
    "### Print Model Summary"
   ]
  },
  {
   "cell_type": "code",
   "execution_count": 27,
   "id": "09d4dc16-3949-4fea-9926-e5f5f7b4e7db",
   "metadata": {},
   "outputs": [],
   "source": [
    "# loaded_model.summary()"
   ]
  }
 ],
 "metadata": {
  "kernelspec": {
   "display_name": "Python 3 (ipykernel)",
   "language": "python",
   "name": "python3"
  },
  "language_info": {
   "codemirror_mode": {
    "name": "ipython",
    "version": 3
   },
   "file_extension": ".py",
   "mimetype": "text/x-python",
   "name": "python",
   "nbconvert_exporter": "python",
   "pygments_lexer": "ipython3",
   "version": "3.9.0"
  }
 },
 "nbformat": 4,
 "nbformat_minor": 5
}
