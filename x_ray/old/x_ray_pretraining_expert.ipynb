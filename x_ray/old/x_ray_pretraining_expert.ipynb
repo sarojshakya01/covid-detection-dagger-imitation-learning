{
 "cells": [
  {
   "cell_type": "markdown",
   "metadata": {},
   "source": [
    "### Import Libraries"
   ]
  },
  {
   "cell_type": "code",
   "execution_count": 2,
   "metadata": {},
   "outputs": [],
   "source": [
    "import numpy as np\n",
    "\n",
    "import matplotlib.pyplot as plt\n",
    "\n",
    "# Tensorflow\n",
    "import tensorflow as tf\n",
    "from tensorflow.keras.applications.densenet import DenseNet169\n",
    "from tensorflow.keras.applications.vgg16 import VGG16\n",
    "from tensorflow.keras.applications.resnet import ResNet101\n",
    "from tensorflow.keras.preprocessing.image import ImageDataGenerator\n",
    "from tensorflow.keras.models import Model\n",
    "from tensorflow.keras.layers import Dense, GlobalAveragePooling2D, Flatten"
   ]
  },
  {
   "cell_type": "markdown",
   "metadata": {},
   "source": [
    "### Check if GPU is available or not"
   ]
  },
  {
   "cell_type": "code",
   "execution_count": 4,
   "metadata": {},
   "outputs": [
    {
     "name": "stdout",
     "output_type": "stream",
     "text": [
      "[PhysicalDevice(name='/physical_device:GPU:0', device_type='GPU')]\n"
     ]
    }
   ],
   "source": [
    "print(tf.config.list_physical_devices('GPU'))"
   ]
  },
  {
   "cell_type": "markdown",
   "metadata": {},
   "source": [
    "### Dataset Path"
   ]
  },
  {
   "cell_type": "code",
   "execution_count": 5,
   "metadata": {},
   "outputs": [],
   "source": [
    "dataset_path = \"../../dataset/xray_new/COVID_19_Radiography_Dataset_Refined/\""
   ]
  },
  {
   "cell_type": "markdown",
   "metadata": {},
   "source": [
    "### Define some parameters for model"
   ]
  },
  {
   "cell_type": "code",
   "execution_count": 6,
   "metadata": {},
   "outputs": [],
   "source": [
    "IMAGE_WIDTH = 224\n",
    "IMAGE_HEIGHT = 224\n",
    "IMAGE_SIZE = (IMAGE_WIDTH, IMAGE_HEIGHT)\n",
    "BATCH_SIZE = 64\n",
    "EPOCHS = 20\n",
    "BASE_MODELS = [\"vgg16net\", \"resnet101\", \"densenet169\"]"
   ]
  },
  {
   "cell_type": "markdown",
   "metadata": {},
   "source": [
    "### Create object of ImageDataGenerator to load the data for training and validation"
   ]
  },
  {
   "cell_type": "code",
   "execution_count": 7,
   "metadata": {},
   "outputs": [],
   "source": [
    "datagen = ImageDataGenerator(\n",
    "  rescale=1./255,\n",
    "  width_shift_range=0.1,\n",
    "  height_shift_range=0.1,\n",
    "  # shear_range=0.1,\n",
    "  zoom_range=0.2,\n",
    "  # horizontal_flip=True,\n",
    "  fill_mode='nearest',\n",
    "  validation_split=0.2\n",
    ")"
   ]
  },
  {
   "cell_type": "markdown",
   "metadata": {},
   "source": [
    "### Load the training data from train folder (split images from train folder as specified in datagen object)"
   ]
  },
  {
   "cell_type": "code",
   "execution_count": 8,
   "metadata": {},
   "outputs": [
    {
     "name": "stdout",
     "output_type": "stream",
     "text": [
      "Found 3597 images belonging to 3 classes.\n"
     ]
    }
   ],
   "source": [
    "train_generator = datagen.flow_from_directory(\n",
    "  dataset_path + \"training\",\n",
    "  subset=\"training\",\n",
    "  class_mode='categorical',\n",
    "  target_size=IMAGE_SIZE,\n",
    "  batch_size=BATCH_SIZE\n",
    ")"
   ]
  },
  {
   "cell_type": "markdown",
   "metadata": {},
   "source": [
    "### Load the model validation data from train folder (split images from train folder as specified in datagen object)"
   ]
  },
  {
   "cell_type": "code",
   "execution_count": 20,
   "metadata": {},
   "outputs": [
    {
     "name": "stdout",
     "output_type": "stream",
     "text": [
      "Found 899 images belonging to 3 classes.\n"
     ]
    }
   ],
   "source": [
    "val_generator = datagen.flow_from_directory(\n",
    "  dataset_path + \"training\",\n",
    "  subset=\"validation\",\n",
    "  class_mode='categorical',\n",
    "  target_size=IMAGE_SIZE,\n",
    "  batch_size=BATCH_SIZE\n",
    ")"
   ]
  },
  {
   "cell_type": "markdown",
   "metadata": {},
   "source": [
    "### Examine the classes"
   ]
  },
  {
   "cell_type": "code",
   "execution_count": 10,
   "metadata": {},
   "outputs": [
    {
     "name": "stdout",
     "output_type": "stream",
     "text": [
      "{'COVID': 0, 'Normal': 1, 'Viral Pneumonia': 2}\n"
     ]
    }
   ],
   "source": [
    "class_names = ['Normal', 'Pneumonia', 'COVID-19']\n",
    "classes = train_generator.class_indices\n",
    "print(classes)\n",
    "NUM_CLASSES = len(classes)"
   ]
  },
  {
   "cell_type": "code",
   "execution_count": 11,
   "metadata": {},
   "outputs": [],
   "source": [
    "# base_model = VGG16(input_shape=(IMAGE_WIDTH, IMAGE_HEIGHT, 3), include_top=False, weights ='imagenet')\n",
    "# base_model = ResNet101(input_shape=(IMAGE_WIDTH, IMAGE_HEIGHT, 3), include_top=False, weights='imagenet')\n",
    "# base_model = DenseNet169(input_shape=(IMAGE_WIDTH, IMAGE_HEIGHT, 3), include_top=False, weights ='imagenet')"
   ]
  },
  {
   "cell_type": "markdown",
   "metadata": {},
   "source": [
    "### Define a function to choose base Model for transfer learning"
   ]
  },
  {
   "cell_type": "code",
   "execution_count": 12,
   "metadata": {},
   "outputs": [],
   "source": [
    "def get_model(model_sel):\n",
    "  if model_sel == 1:\n",
    "    vgg_pre_t = VGG16(input_shape=(IMAGE_WIDTH, IMAGE_HEIGHT, 3), include_top=False, weights ='imagenet')\n",
    "    return vgg_pre_t, 25088\n",
    "\n",
    "  elif model_sel == 2:\n",
    "    resnet_pre_t = ResNet101(input_shape=(IMAGE_WIDTH, IMAGE_HEIGHT, 3), include_top=False, weights='imagenet')\n",
    "    return resnet_pre_t, 100352\n",
    "\n",
    "  elif model_sel == 3:\n",
    "    densenet169_pre_t = DenseNet169(input_shape=(IMAGE_WIDTH, IMAGE_HEIGHT, 3), include_top=False, weights ='imagenet' )\n",
    "    return densenet169_pre_t, 81536"
   ]
  },
  {
   "cell_type": "markdown",
   "metadata": {},
   "source": [
    "### Choose one Model"
   ]
  },
  {
   "cell_type": "code",
   "execution_count": 13,
   "metadata": {},
   "outputs": [],
   "source": [
    "select_model = 1 # int(input(\"Enter the number for: \\n 1) VGGNET16 \\n 2) Resnet101  \\n 3) Densenet169 \"))"
   ]
  },
  {
   "cell_type": "markdown",
   "metadata": {},
   "source": [
    "### Get the chosen Model"
   ]
  },
  {
   "cell_type": "code",
   "execution_count": 14,
   "metadata": {},
   "outputs": [],
   "source": [
    "base_model, feature_size = get_model(select_model)"
   ]
  },
  {
   "cell_type": "markdown",
   "metadata": {},
   "source": [
    "### Freeze the layers of base model as training is not needed for them"
   ]
  },
  {
   "cell_type": "code",
   "execution_count": 15,
   "metadata": {},
   "outputs": [
    {
     "name": "stdout",
     "output_type": "stream",
     "text": [
      "19\n"
     ]
    }
   ],
   "source": [
    "print(len(base_model.layers))\n",
    "for layer in base_model.layers:\n",
    "  layer.trainable = False"
   ]
  },
  {
   "cell_type": "markdown",
   "metadata": {},
   "source": [
    "### Add custom classification layers on top of selected base model"
   ]
  },
  {
   "cell_type": "code",
   "execution_count": 16,
   "metadata": {},
   "outputs": [
    {
     "name": "stdout",
     "output_type": "stream",
     "text": [
      "(None, 25088) (None, 3)\n"
     ]
    }
   ],
   "source": [
    "x = base_model.output\n",
    "# x = GlobalAveragePooling2D()(x)\n",
    "# x = MaxPooling2D()(x)\n",
    "# x = Dense(1024, activation='relu')(x)\n",
    "x = Flatten()(x)\n",
    "\n",
    "predictions = Dense(NUM_CLASSES, activation='softmax')(x)\n",
    "print(x.shape, predictions.shape)"
   ]
  },
  {
   "cell_type": "code",
   "execution_count": 119,
   "metadata": {},
   "outputs": [],
   "source": [
    "# output = base_model.output\n",
    "# output = AveragePooling2D(pool_size=(4, 4))(output)\n",
    "# output = Dense(256, activation=\"relu\")(output)\n",
    "# output = Dropout(0.5)(output)\n",
    "# output = Dense(4, activation=\"softmax\")(output)\n",
    "\n",
    "# print(len(base_model.layers))\n",
    "# for layer in base_model.layers:\n",
    "#   layer.trainable = False\n",
    "\n",
    "# model = Model(inputs=base_model.input, outputs=output)\n",
    "\n",
    "# INIT_LR = 0.001\n",
    "# EPOCHS = 40\n",
    "# BATCHSIZE = 32\n",
    "# optimizer = Adam(lr=INIT_LR, decay=INIT_LR / EPOCHS)\n",
    "\n",
    "# model.compile(optimizer='optimizer', loss='categorical_crossentropy', metrics=['accuracy'])"
   ]
  },
  {
   "cell_type": "markdown",
   "metadata": {},
   "source": [
    "### Initialize expert model based on base Model"
   ]
  },
  {
   "cell_type": "code",
   "execution_count": 17,
   "metadata": {},
   "outputs": [],
   "source": [
    "model = Model(inputs=base_model.input, outputs=predictions)"
   ]
  },
  {
   "cell_type": "markdown",
   "metadata": {},
   "source": [
    "### Compile expert Model"
   ]
  },
  {
   "cell_type": "code",
   "execution_count": 18,
   "metadata": {},
   "outputs": [],
   "source": [
    "model.compile(optimizer='adam', loss='categorical_crossentropy', metrics=['accuracy'])"
   ]
  },
  {
   "cell_type": "markdown",
   "metadata": {},
   "source": [
    "### Train expert Model"
   ]
  },
  {
   "cell_type": "code",
   "execution_count": 21,
   "metadata": {},
   "outputs": [
    {
     "name": "stdout",
     "output_type": "stream",
     "text": [
      "Epoch 1/20\n",
      "15/15 [==============================] - 41s 2s/step - loss: 0.9286 - accuracy: 0.6463 - val_loss: 0.2192 - val_accuracy: 0.9043\n",
      "Epoch 2/20\n",
      "15/15 [==============================] - 18s 1s/step - loss: 0.2944 - accuracy: 0.8877 - val_loss: 0.2497 - val_accuracy: 0.9099\n",
      "Epoch 3/20\n",
      "15/15 [==============================] - 18s 1s/step - loss: 0.1778 - accuracy: 0.9422 - val_loss: 0.1692 - val_accuracy: 0.9299\n",
      "Epoch 4/20\n",
      "15/15 [==============================] - 17s 1s/step - loss: 0.1299 - accuracy: 0.9555 - val_loss: 0.1178 - val_accuracy: 0.9600\n",
      "Epoch 5/20\n",
      "15/15 [==============================] - 18s 1s/step - loss: 0.1071 - accuracy: 0.9633 - val_loss: 0.1877 - val_accuracy: 0.9177\n",
      "Epoch 6/20\n",
      "15/15 [==============================] - 18s 1s/step - loss: 0.1299 - accuracy: 0.9588 - val_loss: 0.1063 - val_accuracy: 0.9633\n",
      "Epoch 7/20\n",
      "15/15 [==============================] - 18s 1s/step - loss: 0.0885 - accuracy: 0.9689 - val_loss: 0.0965 - val_accuracy: 0.9666\n",
      "Epoch 8/20\n",
      "15/15 [==============================] - 17s 1s/step - loss: 0.0728 - accuracy: 0.9789 - val_loss: 0.0692 - val_accuracy: 0.9800\n",
      "Epoch 9/20\n",
      "15/15 [==============================] - 18s 1s/step - loss: 0.1140 - accuracy: 0.9611 - val_loss: 0.1664 - val_accuracy: 0.9299\n",
      "Epoch 10/20\n",
      "15/15 [==============================] - 18s 1s/step - loss: 0.0917 - accuracy: 0.9644 - val_loss: 0.0890 - val_accuracy: 0.9633\n",
      "Epoch 11/20\n",
      "15/15 [==============================] - 18s 1s/step - loss: 0.0881 - accuracy: 0.9644 - val_loss: 0.0679 - val_accuracy: 0.9789\n",
      "Epoch 12/20\n",
      "15/15 [==============================] - 18s 1s/step - loss: 0.0645 - accuracy: 0.9867 - val_loss: 0.0518 - val_accuracy: 0.9822\n",
      "Epoch 13/20\n",
      "15/15 [==============================] - 17s 1s/step - loss: 0.0664 - accuracy: 0.9733 - val_loss: 0.0732 - val_accuracy: 0.9755\n",
      "Epoch 14/20\n",
      "15/15 [==============================] - 18s 1s/step - loss: 0.0638 - accuracy: 0.9755 - val_loss: 0.0771 - val_accuracy: 0.9644\n",
      "Epoch 15/20\n",
      "15/15 [==============================] - 18s 1s/step - loss: 0.0563 - accuracy: 0.9811 - val_loss: 0.0478 - val_accuracy: 0.9878\n",
      "Epoch 16/20\n",
      "15/15 [==============================] - 18s 1s/step - loss: 0.0504 - accuracy: 0.9855 - val_loss: 0.0434 - val_accuracy: 0.9878\n",
      "Epoch 17/20\n",
      "15/15 [==============================] - 17s 1s/step - loss: 0.0388 - accuracy: 0.9911 - val_loss: 0.0447 - val_accuracy: 0.9844\n",
      "Epoch 18/20\n",
      "15/15 [==============================] - 17s 1s/step - loss: 0.0554 - accuracy: 0.9811 - val_loss: 0.0347 - val_accuracy: 0.9922\n",
      "Epoch 19/20\n",
      "15/15 [==============================] - 17s 1s/step - loss: 0.0422 - accuracy: 0.9867 - val_loss: 0.0418 - val_accuracy: 0.9878\n",
      "Epoch 20/20\n",
      "15/15 [==============================] - 17s 1s/step - loss: 0.0444 - accuracy: 0.9867 - val_loss: 0.0429 - val_accuracy: 0.9822\n"
     ]
    }
   ],
   "source": [
    "history = model.fit(train_generator,\n",
    "          steps_per_epoch=len(train_generator),\n",
    "          epochs=EPOCHS,\n",
    "          validation_data=val_generator,\n",
    "          validation_steps=len(val_generator))"
   ]
  },
  {
   "cell_type": "markdown",
   "metadata": {},
   "source": [
    "### Visualize the training process from accuracy"
   ]
  },
  {
   "cell_type": "code",
   "execution_count": 22,
   "metadata": {
    "scrolled": true
   },
   "outputs": [
    {
     "data": {
      "image/png": "[encoded data removed]",
      "text/plain": [
       "<Figure size 640x480 with 1 Axes>"
      ]
     },
     "metadata": {},
     "output_type": "display_data"
    }
   ],
   "source": [
    "plt.plot(history.history['accuracy'], label='Training Accuracy')\n",
    "plt.plot(history.history['val_accuracy'], label='Validation Accuracy')\n",
    "plt.title('Training and Validation Accuracy')\n",
    "plt.xlabel('Epoch')\n",
    "plt.ylabel('Accuracy')\n",
    "plt.legend()\n",
    "plt.show()"
   ]
  },
  {
   "cell_type": "markdown",
   "metadata": {},
   "source": [
    "### Visualize the training process from loss"
   ]
  },
  {
   "cell_type": "code",
   "execution_count": 23,
   "metadata": {},
   "outputs": [
    {
     "data": {
      "image/png": "[encoded data removed]",
      "text/plain": [
       "<Figure size 640x480 with 1 Axes>"
      ]
     },
     "metadata": {},
     "output_type": "display_data"
    }
   ],
   "source": [
    "plt.plot(history.history['loss'], label='Training Loss')\n",
    "plt.plot(history.history['val_loss'], label='Validation Loss')\n",
    "plt.title('Training and Validation Accuracy')\n",
    "plt.xlabel('Epoch')\n",
    "plt.ylabel('Loss')\n",
    "plt.legend()\n",
    "plt.show()"
   ]
  },
  {
   "cell_type": "markdown",
   "metadata": {},
   "source": [
    "### Save expert Model"
   ]
  },
  {
   "cell_type": "code",
   "execution_count": 24,
   "metadata": {},
   "outputs": [],
   "source": [
    "val_accuracy_list = history.history['val_accuracy']\n",
    "val_accuracy = val_accuracy_list[-1] # last epoch value"
   ]
  },
  {
   "cell_type": "code",
   "execution_count": 25,
   "metadata": {},
   "outputs": [],
   "source": [
    "model_name = \"./models/xray\" + \"_\" + BASE_MODELS[select_model-1] + \"_\" + str(BATCH_SIZE) + \"_\" + str(EPOCHS) + \"_expert_acc_\" + str(round(val_accuracy * 100, 1)) + \".h5\"\n",
    "model.save(model_name)"
   ]
  },
  {
   "cell_type": "markdown",
   "metadata": {},
   "source": [
    "### Import necessary models for evaluations"
   ]
  },
  {
   "cell_type": "code",
   "execution_count": 29,
   "metadata": {},
   "outputs": [],
   "source": [
    "from sklearn.metrics import confusion_matrix, multilabel_confusion_matrix, accuracy_score, precision_score, f1_score, roc_auc_score\n",
    "from sklearn.metrics import ConfusionMatrixDisplay\n",
    "from tensorflow.keras.models import load_model"
   ]
  },
  {
   "cell_type": "markdown",
   "metadata": {},
   "source": [
    "### Evaluate the Model"
   ]
  },
  {
   "cell_type": "code",
   "execution_count": 27,
   "metadata": {},
   "outputs": [
    {
     "name": "stdout",
     "output_type": "stream",
     "text": [
      "29/29 [==============================] - 3s 32ms/step\n"
     ]
    }
   ],
   "source": [
    "val_data, val_labels = [], []\n",
    "for _ in range(len(val_generator)):\n",
    "    batch_data, batch_labels = val_generator.next()\n",
    "    val_data.append(batch_data)\n",
    "    val_labels.append(batch_labels)\n",
    "\n",
    "val_data = np.concatenate(val_data)\n",
    "val_labels = np.concatenate(val_labels)\n",
    "\n",
    "# Make predictions on the validation set\n",
    "val_predictions = model.predict(val_data)"
   ]
  },
  {
   "cell_type": "code",
   "execution_count": 30,
   "metadata": {},
   "outputs": [
    {
     "data": {
      "image/png": "[encoded data removed]",
      "text/plain": [
       "<Figure size 640x480 with 2 Axes>"
      ]
     },
     "metadata": {},
     "output_type": "display_data"
    },
    {
     "name": "stdout",
     "output_type": "stream",
     "text": [
      "Accuracy: 0.9799777530589544\n",
      "Precision: 0.9821627647714605\n",
      "F1 Score: 0.9810690423162584\n",
      "AUC-ROC Score: 0.9991518199061867\n",
      "Confusion Matrix:\n",
      " [[419   1   0]\n",
      " [  0 379   1]\n",
      " [  5  11  83]]\n"
     ]
    }
   ],
   "source": [
    "# Convert predicted probabilities to predicted class labels\n",
    "val_predicted_labels = (val_predictions > 0.5).astype(int)  # Thresholding at 0.5\n",
    "\n",
    "# p_l = [np.where(x == 1)[0][0] for x in val_predicted_labels]\n",
    "p_l = [];\n",
    "for x in val_predicted_labels:\n",
    "    try:\n",
    "        p_l.append(np.where(x == 1)[0][0])\n",
    "    except:\n",
    "        p_l.append(0)\n",
    "\n",
    "t_l = [np.where(x == 1)[0][0] for x in val_labels]\n",
    "\n",
    "# loss, accuracy = model.evaluate(val_generator, steps=len(val_generator))\n",
    "accuracy = accuracy_score(val_labels, val_predicted_labels)\n",
    "\n",
    "# Calculate precision\n",
    "precision = precision_score(val_labels, val_predicted_labels, average='micro')\n",
    "\n",
    "# Calculate F1 score\n",
    "f1 = f1_score(val_labels, val_predicted_labels, average='micro')\n",
    "\n",
    "# Calculate AUC-ROC\n",
    "auc_roc = roc_auc_score(val_labels, val_predictions, average='micro')\n",
    "\n",
    "# Calculate confusion matrix\n",
    "# conf_matrix = multilabel_confusion_matrix(val_labels, val_predicted_labels)\n",
    "conf_matrix = confusion_matrix(t_l, p_l)\n",
    "\n",
    "\n",
    "disp = ConfusionMatrixDisplay(confusion_matrix=conf_matrix, display_labels=class_names)\n",
    "disp.plot(cmap=plt.cm.Blues, values_format='d')\n",
    "plt.title('Confusion Matrix')\n",
    "plt.show()\n",
    "\n",
    "print(\"Accuracy:\", accuracy)\n",
    "# print(\"Loss:\", loss)\n",
    "print(\"Precision:\", precision)\n",
    "print(\"F1 Score:\", f1)\n",
    "print(\"AUC-ROC Score:\", auc_roc)\n",
    "print(\"Confusion Matrix:\\n\", conf_matrix)"
   ]
  },
  {
   "cell_type": "markdown",
   "metadata": {},
   "source": [
    "### Print model summary"
   ]
  },
  {
   "cell_type": "code",
   "execution_count": 1,
   "metadata": {},
   "outputs": [],
   "source": [
    "# loaded_model.summary()"
   ]
  }
 ],
 "metadata": {
  "kernelspec": {
   "display_name": "Python 3 (ipykernel)",
   "language": "python",
   "name": "python3"
  },
  "language_info": {
   "codemirror_mode": {
    "name": "ipython",
    "version": 3
   },
   "file_extension": ".py",
   "mimetype": "text/x-python",
   "name": "python",
   "nbconvert_exporter": "python",
   "pygments_lexer": "ipython3",
   "version": "3.9.0"
  },
  "vscode": {
   "interpreter": {
    "hash": "4bd624a0593993fe43ac4046b27b898fb2ef75c21c08f81e89e64ea0f51df676"
   }
  }
 },
 "nbformat": 4,
 "nbformat_minor": 4
}
