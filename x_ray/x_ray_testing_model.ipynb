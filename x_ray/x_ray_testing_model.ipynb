{
 "cells": [
  {
   "cell_type": "markdown",
   "id": "f57f50f0-e43e-4151-8a04-807dcb98609a",
   "metadata": {},
   "source": [
    "### Import necessary libraries"
   ]
  },
  {
   "cell_type": "code",
   "execution_count": 2,
   "id": "7be96eee-879a-41cc-9334-38e9d65670b8",
   "metadata": {},
   "outputs": [],
   "source": [
    "import numpy as np\n",
    "\n",
    "import matplotlib.pyplot as plt\n",
    "\n",
    "from sklearn.metrics import confusion_matrix, multilabel_confusion_matrix, precision_score, f1_score, roc_auc_score, ConfusionMatrixDisplay\n",
    "\n",
    "import tensorflow as tf\n",
    "from tensorflow.keras.preprocessing.image import ImageDataGenerator\n",
    "from tensorflow.keras.models import load_model"
   ]
  },
  {
   "cell_type": "markdown",
   "id": "1c8747bf-23df-4fa9-875b-5275839dfa75",
   "metadata": {},
   "source": [
    "### Check if GPU is available or not"
   ]
  },
  {
   "cell_type": "code",
   "execution_count": 3,
   "id": "8d06cdc2-06ae-482a-853b-bdc59566c754",
   "metadata": {},
   "outputs": [
    {
     "name": "stdout",
     "output_type": "stream",
     "text": [
      "[PhysicalDevice(name='/physical_device:GPU:0', device_type='GPU')]\n"
     ]
    }
   ],
   "source": [
    "print(tf.config.list_physical_devices('GPU'))"
   ]
  },
  {
   "cell_type": "markdown",
   "id": "d6ecc1f6-b122-4941-a914-a62e828494af",
   "metadata": {},
   "source": [
    "### Test Model with New Data (Unseen Data)"
   ]
  },
  {
   "cell_type": "code",
   "execution_count": 3,
   "id": "ee5ba8a0-bb41-41dd-b7c1-53d3250cce22",
   "metadata": {},
   "outputs": [],
   "source": [
    "dataset_path = \"../../dataset/xray_new/COVID_19_Radiography_Dataset_Refined/\""
   ]
  },
  {
   "cell_type": "code",
   "execution_count": 4,
   "id": "18533911-0392-4001-b712-8480440cbebb",
   "metadata": {},
   "outputs": [],
   "source": [
    "# Load the saved model\n",
    "model_name = \"./models/xray_vgg16_64_12_expert_acc_95.7.h5\"\n",
    "# model_name = \"./models/learned_policy_human_expert_rollout_8.h5\"\n",
    "model = load_model(model_name)"
   ]
  },
  {
   "cell_type": "code",
   "execution_count": 5,
   "id": "2f1e7074-4e2d-49d6-b228-ba0635c41a43",
   "metadata": {},
   "outputs": [],
   "source": [
    "IMAGE_WIDTH = 224\n",
    "IMAGE_HEIGHT = 224\n",
    "IMAGE_SIZE = (IMAGE_WIDTH, IMAGE_HEIGHT)"
   ]
  },
  {
   "cell_type": "code",
   "execution_count": 6,
   "id": "afc4fe17-3b70-4fa2-8c15-a3a16c1a9196",
   "metadata": {},
   "outputs": [],
   "source": [
    "test_datagen = ImageDataGenerator(\n",
    "  rescale=1./255,\n",
    "  # rotation_range=10,\n",
    "  # width_shift_range=0.1,\n",
    "  # height_shift_range=0.1,\n",
    "  # shear_range=0.1,\n",
    "  # zoom_range=0.1,\n",
    "  # horizontal_flip=True,\n",
    "  # fill_mode='nearest'\n",
    ")"
   ]
  },
  {
   "cell_type": "code",
   "execution_count": 7,
   "id": "fda748bb-2526-4ded-9199-441b5d71fc0c",
   "metadata": {},
   "outputs": [
    {
     "name": "stdout",
     "output_type": "stream",
     "text": [
      "Found 1200 images belonging to 3 classes.\n"
     ]
    }
   ],
   "source": [
    "test_generator = test_datagen.flow_from_directory(\n",
    "  dataset_path + \"test\",\n",
    "  target_size=IMAGE_SIZE\n",
    ")"
   ]
  },
  {
   "cell_type": "code",
   "execution_count": 8,
   "id": "db48ff1b-a324-42d9-bd2a-81fb8e55b729",
   "metadata": {},
   "outputs": [
    {
     "name": "stdout",
     "output_type": "stream",
     "text": [
      "Total classes: 3 ['COVID', 'Normal', 'Viral Pneumonia']\n"
     ]
    }
   ],
   "source": [
    "num_classes = test_generator.num_classes\n",
    "class_names = list(test_generator.class_indices.keys())\n",
    "print(\"Total classes:\", num_classes, class_names)"
   ]
  },
  {
   "cell_type": "code",
   "execution_count": 9,
   "id": "028bcb6a-c4e1-4308-a329-78afeda193ff",
   "metadata": {},
   "outputs": [],
   "source": [
    "test_data, test_labels = [], []\n",
    "for _ in range(len(test_generator)):\n",
    "    batch_data, batch_labels = test_generator.next()\n",
    "    test_data.append(batch_data)\n",
    "    test_labels.append(batch_labels)\n",
    "\n",
    "test_data = np.concatenate(test_data)\n",
    "test_labels = np.concatenate(test_labels)"
   ]
  },
  {
   "cell_type": "code",
   "execution_count": 10,
   "id": "4478a3b0-9858-41b7-a786-18ff0580c929",
   "metadata": {},
   "outputs": [
    {
     "name": "stdout",
     "output_type": "stream",
     "text": [
      "38/38 [==============================] - 9s 55ms/step\n"
     ]
    }
   ],
   "source": [
    "# Make predictions on the test set\n",
    "test_predictions = model.predict(test_data)"
   ]
  },
  {
   "cell_type": "code",
   "execution_count": 11,
   "id": "2eb0f4e8-8440-49c4-9930-632bd75bd9ca",
   "metadata": {},
   "outputs": [
    {
     "name": "stdout",
     "output_type": "stream",
     "text": [
      "38/38 [==============================] - 3s 66ms/step - loss: 0.3212 - accuracy: 0.9225\n"
     ]
    },
    {
     "data": {
      "image/png": "[encoded data removed]",
      "text/plain": [
       "<Figure size 640x480 with 2 Axes>"
      ]
     },
     "metadata": {},
     "output_type": "display_data"
    },
    {
     "name": "stdout",
     "output_type": "stream",
     "text": [
      "Accuracy: 0.9225000143051147\n",
      "Loss: 0.3212287127971649\n",
      "Precision: 0.9232693911592994\n",
      "F1 Score: 0.9228845352230096\n",
      "AUC-ROC Score: 0.9858052083333334\n",
      "Confusion Matrix:\n",
      "[[459  41   0]\n",
      " [  1 499   0]\n",
      " [ 15  36 149]]\n"
     ]
    }
   ],
   "source": [
    "# Convert predicted probabilities to predicted class labels\n",
    "test_predicted_labels = (test_predictions > 0.5).astype(np.int8)  # Thresholding at 0.5\n",
    "\n",
    "p_l = [np.where(x == 1)[0][0] if np.where(x == 1)[0].size > 0 else 0 for x in test_predicted_labels]\n",
    "t_l = [np.where(x == 1)[0][0] for x in test_labels]\n",
    "\n",
    "test_loss, test_accuracy = model.evaluate(test_generator, steps=len(test_generator))\n",
    "\n",
    "# Calculate precision\n",
    "precision = precision_score(test_labels, test_predicted_labels, average='micro')\n",
    "\n",
    "# Calculate F1 score\n",
    "f1 = f1_score(test_labels, test_predicted_labels, average='micro')\n",
    "\n",
    "# Calculate AUC-ROC\n",
    "auc_roc = roc_auc_score(test_labels, test_predictions, average='micro')\n",
    "\n",
    "# Calculate confusion matrix\n",
    "# conf_matrix = multilabel_confusion_matrix(test_labels, test_predicted_labels)\n",
    "conf_matrix = confusion_matrix(t_l, p_l)\n",
    "\n",
    "\n",
    "disp = ConfusionMatrixDisplay(confusion_matrix=conf_matrix, display_labels=class_names)\n",
    "disp.plot(cmap=plt.cm.Blues, values_format='d')\n",
    "plt.title('Confusion Matrix')\n",
    "plt.show()\n",
    "\n",
    "print(\"Accuracy:\", test_accuracy)\n",
    "print(\"Loss:\", test_loss)\n",
    "print(\"Precision:\", precision)\n",
    "print(\"F1 Score:\", f1)\n",
    "print(\"AUC-ROC Score:\", auc_roc)\n",
    "print(\"Confusion Matrix:\")\n",
    "print(conf_matrix)"
   ]
  },
  {
   "cell_type": "markdown",
   "id": "2f8c18da-3cf8-4e30-890b-f107b2c8d648",
   "metadata": {},
   "source": [
    "### Print Model Summary"
   ]
  },
  {
   "cell_type": "code",
   "execution_count": 22,
   "id": "09d4dc16-3949-4fea-9926-e5f5f7b4e7db",
   "metadata": {},
   "outputs": [],
   "source": [
    "# model.summary()"
   ]
  }
 ],
 "metadata": {
  "kernelspec": {
   "display_name": "Python 3 (ipykernel)",
   "language": "python",
   "name": "python3"
  },
  "language_info": {
   "codemirror_mode": {
    "name": "ipython",
    "version": 3
   },
   "file_extension": ".py",
   "mimetype": "text/x-python",
   "name": "python",
   "nbconvert_exporter": "python",
   "pygments_lexer": "ipython3",
   "version": "3.9.0"
  }
 },
 "nbformat": 4,
 "nbformat_minor": 5
}
